{
  "nbformat": 4,
  "nbformat_minor": 0,
  "metadata": {
    "colab": {
      "name": "AlperBingol-HW4_LinearRegression.ipynb",
      "provenance": [],
      "collapsed_sections": []
    },
    "kernelspec": {
      "name": "python3",
      "display_name": "Python 3"
    }
  },
  "cells": [
    {
      "cell_type": "markdown",
      "metadata": {
        "id": "DTfDIhAYYjaX",
        "colab_type": "text"
      },
      "source": [
        "# Load the dataset"
      ]
    },
    {
      "cell_type": "code",
      "metadata": {
        "id": "yFpeyxi8aqIl",
        "colab_type": "code",
        "outputId": "6c3de2f3-27e0-4c64-ecc8-5bded6ca59af",
        "colab": {
          "base_uri": "https://localhost:8080/",
          "height": 304
        }
      },
      "source": [
        "import pandas as pd\n",
        "import numpy as np\n",
        "import matplotlib.pyplot as plt                   \n",
        "\n",
        "df = pd.read_csv('https://raw.githubusercontent.com/OpenClassrooms-Student-Center/Evaluate-Improve-Models/master/house_prices.csv')\n",
        "df.sample(5)"
      ],
      "execution_count": 0,
      "outputs": [
        {
          "output_type": "execute_result",
          "data": {
            "text/html": [
              "<div>\n",
              "<style scoped>\n",
              "    .dataframe tbody tr th:only-of-type {\n",
              "        vertical-align: middle;\n",
              "    }\n",
              "\n",
              "    .dataframe tbody tr th {\n",
              "        vertical-align: top;\n",
              "    }\n",
              "\n",
              "    .dataframe thead th {\n",
              "        text-align: right;\n",
              "    }\n",
              "</style>\n",
              "<table border=\"1\" class=\"dataframe\">\n",
              "  <thead>\n",
              "    <tr style=\"text-align: right;\">\n",
              "      <th></th>\n",
              "      <th>MS SubClass</th>\n",
              "      <th>Lot Frontage</th>\n",
              "      <th>Lot Area</th>\n",
              "      <th>Overall Qual</th>\n",
              "      <th>Overall Cond</th>\n",
              "      <th>Year Built</th>\n",
              "      <th>Year Remod/Add</th>\n",
              "      <th>Mas Vnr Area</th>\n",
              "      <th>BsmtFin SF 1</th>\n",
              "      <th>BsmtFin SF 2</th>\n",
              "      <th>Bsmt Unf SF</th>\n",
              "      <th>Total Bsmt SF</th>\n",
              "      <th>1st Flr SF</th>\n",
              "      <th>2nd Flr SF</th>\n",
              "      <th>Low Qual Fin SF</th>\n",
              "      <th>Gr Liv Area</th>\n",
              "      <th>Bsmt Full Bath</th>\n",
              "      <th>Bsmt Half Bath</th>\n",
              "      <th>Full Bath</th>\n",
              "      <th>Half Bath</th>\n",
              "      <th>Bedroom AbvGr</th>\n",
              "      <th>Kitchen AbvGr</th>\n",
              "      <th>TotRms AbvGrd</th>\n",
              "      <th>Fireplaces</th>\n",
              "      <th>Garage Yr Blt</th>\n",
              "      <th>Garage Cars</th>\n",
              "      <th>Garage Area</th>\n",
              "      <th>Wood Deck SF</th>\n",
              "      <th>Open Porch SF</th>\n",
              "      <th>Enclosed Porch</th>\n",
              "      <th>3Ssn Porch</th>\n",
              "      <th>Screen Porch</th>\n",
              "      <th>Pool Area</th>\n",
              "      <th>Misc Val</th>\n",
              "      <th>Mo Sold</th>\n",
              "      <th>Yr Sold</th>\n",
              "      <th>MS Zoning_A (agr)</th>\n",
              "      <th>MS Zoning_C (all)</th>\n",
              "      <th>MS Zoning_FV</th>\n",
              "      <th>MS Zoning_I (all)</th>\n",
              "      <th>...</th>\n",
              "      <th>Garage Qual_Po</th>\n",
              "      <th>Garage Qual_TA</th>\n",
              "      <th>Garage Cond_Ex</th>\n",
              "      <th>Garage Cond_Fa</th>\n",
              "      <th>Garage Cond_Gd</th>\n",
              "      <th>Garage Cond_Po</th>\n",
              "      <th>Garage Cond_TA</th>\n",
              "      <th>Paved Drive_N</th>\n",
              "      <th>Paved Drive_P</th>\n",
              "      <th>Paved Drive_Y</th>\n",
              "      <th>Pool QC_Ex</th>\n",
              "      <th>Pool QC_Fa</th>\n",
              "      <th>Pool QC_Gd</th>\n",
              "      <th>Pool QC_TA</th>\n",
              "      <th>Fence_GdPrv</th>\n",
              "      <th>Fence_GdWo</th>\n",
              "      <th>Fence_MnPrv</th>\n",
              "      <th>Fence_MnWw</th>\n",
              "      <th>Misc Feature_Elev</th>\n",
              "      <th>Misc Feature_Gar2</th>\n",
              "      <th>Misc Feature_Othr</th>\n",
              "      <th>Misc Feature_Shed</th>\n",
              "      <th>Misc Feature_TenC</th>\n",
              "      <th>Sale Type_COD</th>\n",
              "      <th>Sale Type_CWD</th>\n",
              "      <th>Sale Type_Con</th>\n",
              "      <th>Sale Type_ConLD</th>\n",
              "      <th>Sale Type_ConLI</th>\n",
              "      <th>Sale Type_ConLw</th>\n",
              "      <th>Sale Type_New</th>\n",
              "      <th>Sale Type_Oth</th>\n",
              "      <th>Sale Type_VWD</th>\n",
              "      <th>Sale Type_WD</th>\n",
              "      <th>Sale Condition_Abnorml</th>\n",
              "      <th>Sale Condition_AdjLand</th>\n",
              "      <th>Sale Condition_Alloca</th>\n",
              "      <th>Sale Condition_Family</th>\n",
              "      <th>Sale Condition_Normal</th>\n",
              "      <th>Sale Condition_Partial</th>\n",
              "      <th>SalesPrice</th>\n",
              "    </tr>\n",
              "  </thead>\n",
              "  <tbody>\n",
              "    <tr>\n",
              "      <th>1212</th>\n",
              "      <td>80</td>\n",
              "      <td>85.00000</td>\n",
              "      <td>9350</td>\n",
              "      <td>5</td>\n",
              "      <td>8</td>\n",
              "      <td>1965</td>\n",
              "      <td>1999</td>\n",
              "      <td>0.0</td>\n",
              "      <td>633.0</td>\n",
              "      <td>0.0</td>\n",
              "      <td>586.0</td>\n",
              "      <td>1219.0</td>\n",
              "      <td>1265</td>\n",
              "      <td>0</td>\n",
              "      <td>0</td>\n",
              "      <td>1265</td>\n",
              "      <td>0.0</td>\n",
              "      <td>1.0</td>\n",
              "      <td>2</td>\n",
              "      <td>0</td>\n",
              "      <td>3</td>\n",
              "      <td>1</td>\n",
              "      <td>6</td>\n",
              "      <td>1</td>\n",
              "      <td>1965.0</td>\n",
              "      <td>2.0</td>\n",
              "      <td>502.0</td>\n",
              "      <td>0</td>\n",
              "      <td>92</td>\n",
              "      <td>0</td>\n",
              "      <td>96</td>\n",
              "      <td>0</td>\n",
              "      <td>0</td>\n",
              "      <td>0</td>\n",
              "      <td>10</td>\n",
              "      <td>2008</td>\n",
              "      <td>0</td>\n",
              "      <td>0</td>\n",
              "      <td>0</td>\n",
              "      <td>0</td>\n",
              "      <td>...</td>\n",
              "      <td>0</td>\n",
              "      <td>1</td>\n",
              "      <td>0</td>\n",
              "      <td>0</td>\n",
              "      <td>0</td>\n",
              "      <td>0</td>\n",
              "      <td>1</td>\n",
              "      <td>0</td>\n",
              "      <td>0</td>\n",
              "      <td>1</td>\n",
              "      <td>0</td>\n",
              "      <td>0</td>\n",
              "      <td>0</td>\n",
              "      <td>0</td>\n",
              "      <td>0</td>\n",
              "      <td>0</td>\n",
              "      <td>1</td>\n",
              "      <td>0</td>\n",
              "      <td>0</td>\n",
              "      <td>0</td>\n",
              "      <td>0</td>\n",
              "      <td>0</td>\n",
              "      <td>0</td>\n",
              "      <td>0</td>\n",
              "      <td>0</td>\n",
              "      <td>0</td>\n",
              "      <td>0</td>\n",
              "      <td>0</td>\n",
              "      <td>0</td>\n",
              "      <td>0</td>\n",
              "      <td>0</td>\n",
              "      <td>0</td>\n",
              "      <td>1</td>\n",
              "      <td>0</td>\n",
              "      <td>0</td>\n",
              "      <td>0</td>\n",
              "      <td>0</td>\n",
              "      <td>1</td>\n",
              "      <td>0</td>\n",
              "      <td>179900</td>\n",
              "    </tr>\n",
              "    <tr>\n",
              "      <th>140</th>\n",
              "      <td>20</td>\n",
              "      <td>69.22459</td>\n",
              "      <td>8050</td>\n",
              "      <td>5</td>\n",
              "      <td>5</td>\n",
              "      <td>1959</td>\n",
              "      <td>1959</td>\n",
              "      <td>150.0</td>\n",
              "      <td>856.0</td>\n",
              "      <td>162.0</td>\n",
              "      <td>125.0</td>\n",
              "      <td>1143.0</td>\n",
              "      <td>1143</td>\n",
              "      <td>0</td>\n",
              "      <td>0</td>\n",
              "      <td>1143</td>\n",
              "      <td>1.0</td>\n",
              "      <td>0.0</td>\n",
              "      <td>1</td>\n",
              "      <td>0</td>\n",
              "      <td>3</td>\n",
              "      <td>1</td>\n",
              "      <td>6</td>\n",
              "      <td>0</td>\n",
              "      <td>1959.0</td>\n",
              "      <td>1.0</td>\n",
              "      <td>308.0</td>\n",
              "      <td>0</td>\n",
              "      <td>0</td>\n",
              "      <td>0</td>\n",
              "      <td>0</td>\n",
              "      <td>0</td>\n",
              "      <td>0</td>\n",
              "      <td>0</td>\n",
              "      <td>5</td>\n",
              "      <td>2010</td>\n",
              "      <td>0</td>\n",
              "      <td>0</td>\n",
              "      <td>0</td>\n",
              "      <td>0</td>\n",
              "      <td>...</td>\n",
              "      <td>0</td>\n",
              "      <td>1</td>\n",
              "      <td>0</td>\n",
              "      <td>0</td>\n",
              "      <td>0</td>\n",
              "      <td>0</td>\n",
              "      <td>1</td>\n",
              "      <td>0</td>\n",
              "      <td>0</td>\n",
              "      <td>1</td>\n",
              "      <td>0</td>\n",
              "      <td>0</td>\n",
              "      <td>0</td>\n",
              "      <td>0</td>\n",
              "      <td>1</td>\n",
              "      <td>0</td>\n",
              "      <td>0</td>\n",
              "      <td>0</td>\n",
              "      <td>0</td>\n",
              "      <td>0</td>\n",
              "      <td>0</td>\n",
              "      <td>0</td>\n",
              "      <td>0</td>\n",
              "      <td>0</td>\n",
              "      <td>0</td>\n",
              "      <td>0</td>\n",
              "      <td>0</td>\n",
              "      <td>0</td>\n",
              "      <td>0</td>\n",
              "      <td>0</td>\n",
              "      <td>0</td>\n",
              "      <td>0</td>\n",
              "      <td>1</td>\n",
              "      <td>0</td>\n",
              "      <td>0</td>\n",
              "      <td>0</td>\n",
              "      <td>0</td>\n",
              "      <td>1</td>\n",
              "      <td>0</td>\n",
              "      <td>136000</td>\n",
              "    </tr>\n",
              "    <tr>\n",
              "      <th>2118</th>\n",
              "      <td>20</td>\n",
              "      <td>155.00000</td>\n",
              "      <td>20064</td>\n",
              "      <td>8</td>\n",
              "      <td>6</td>\n",
              "      <td>1976</td>\n",
              "      <td>1976</td>\n",
              "      <td>0.0</td>\n",
              "      <td>51.0</td>\n",
              "      <td>915.0</td>\n",
              "      <td>0.0</td>\n",
              "      <td>966.0</td>\n",
              "      <td>1743</td>\n",
              "      <td>0</td>\n",
              "      <td>0</td>\n",
              "      <td>1743</td>\n",
              "      <td>2.0</td>\n",
              "      <td>0.0</td>\n",
              "      <td>0</td>\n",
              "      <td>1</td>\n",
              "      <td>0</td>\n",
              "      <td>1</td>\n",
              "      <td>5</td>\n",
              "      <td>2</td>\n",
              "      <td>1976.0</td>\n",
              "      <td>2.0</td>\n",
              "      <td>529.0</td>\n",
              "      <td>646</td>\n",
              "      <td>0</td>\n",
              "      <td>0</td>\n",
              "      <td>0</td>\n",
              "      <td>0</td>\n",
              "      <td>0</td>\n",
              "      <td>0</td>\n",
              "      <td>5</td>\n",
              "      <td>2007</td>\n",
              "      <td>0</td>\n",
              "      <td>0</td>\n",
              "      <td>0</td>\n",
              "      <td>0</td>\n",
              "      <td>...</td>\n",
              "      <td>0</td>\n",
              "      <td>1</td>\n",
              "      <td>0</td>\n",
              "      <td>0</td>\n",
              "      <td>0</td>\n",
              "      <td>0</td>\n",
              "      <td>1</td>\n",
              "      <td>0</td>\n",
              "      <td>0</td>\n",
              "      <td>1</td>\n",
              "      <td>0</td>\n",
              "      <td>0</td>\n",
              "      <td>0</td>\n",
              "      <td>0</td>\n",
              "      <td>0</td>\n",
              "      <td>0</td>\n",
              "      <td>0</td>\n",
              "      <td>0</td>\n",
              "      <td>0</td>\n",
              "      <td>0</td>\n",
              "      <td>0</td>\n",
              "      <td>0</td>\n",
              "      <td>0</td>\n",
              "      <td>0</td>\n",
              "      <td>0</td>\n",
              "      <td>0</td>\n",
              "      <td>0</td>\n",
              "      <td>0</td>\n",
              "      <td>0</td>\n",
              "      <td>0</td>\n",
              "      <td>0</td>\n",
              "      <td>0</td>\n",
              "      <td>1</td>\n",
              "      <td>0</td>\n",
              "      <td>0</td>\n",
              "      <td>0</td>\n",
              "      <td>0</td>\n",
              "      <td>1</td>\n",
              "      <td>0</td>\n",
              "      <td>279000</td>\n",
              "    </tr>\n",
              "    <tr>\n",
              "      <th>4</th>\n",
              "      <td>60</td>\n",
              "      <td>74.00000</td>\n",
              "      <td>13830</td>\n",
              "      <td>5</td>\n",
              "      <td>5</td>\n",
              "      <td>1997</td>\n",
              "      <td>1998</td>\n",
              "      <td>0.0</td>\n",
              "      <td>791.0</td>\n",
              "      <td>0.0</td>\n",
              "      <td>137.0</td>\n",
              "      <td>928.0</td>\n",
              "      <td>928</td>\n",
              "      <td>701</td>\n",
              "      <td>0</td>\n",
              "      <td>1629</td>\n",
              "      <td>0.0</td>\n",
              "      <td>0.0</td>\n",
              "      <td>2</td>\n",
              "      <td>1</td>\n",
              "      <td>3</td>\n",
              "      <td>1</td>\n",
              "      <td>6</td>\n",
              "      <td>1</td>\n",
              "      <td>1997.0</td>\n",
              "      <td>2.0</td>\n",
              "      <td>482.0</td>\n",
              "      <td>212</td>\n",
              "      <td>34</td>\n",
              "      <td>0</td>\n",
              "      <td>0</td>\n",
              "      <td>0</td>\n",
              "      <td>0</td>\n",
              "      <td>0</td>\n",
              "      <td>3</td>\n",
              "      <td>2010</td>\n",
              "      <td>0</td>\n",
              "      <td>0</td>\n",
              "      <td>0</td>\n",
              "      <td>0</td>\n",
              "      <td>...</td>\n",
              "      <td>0</td>\n",
              "      <td>1</td>\n",
              "      <td>0</td>\n",
              "      <td>0</td>\n",
              "      <td>0</td>\n",
              "      <td>0</td>\n",
              "      <td>1</td>\n",
              "      <td>0</td>\n",
              "      <td>0</td>\n",
              "      <td>1</td>\n",
              "      <td>0</td>\n",
              "      <td>0</td>\n",
              "      <td>0</td>\n",
              "      <td>0</td>\n",
              "      <td>0</td>\n",
              "      <td>0</td>\n",
              "      <td>1</td>\n",
              "      <td>0</td>\n",
              "      <td>0</td>\n",
              "      <td>0</td>\n",
              "      <td>0</td>\n",
              "      <td>0</td>\n",
              "      <td>0</td>\n",
              "      <td>0</td>\n",
              "      <td>0</td>\n",
              "      <td>0</td>\n",
              "      <td>0</td>\n",
              "      <td>0</td>\n",
              "      <td>0</td>\n",
              "      <td>0</td>\n",
              "      <td>0</td>\n",
              "      <td>0</td>\n",
              "      <td>1</td>\n",
              "      <td>0</td>\n",
              "      <td>0</td>\n",
              "      <td>0</td>\n",
              "      <td>0</td>\n",
              "      <td>1</td>\n",
              "      <td>0</td>\n",
              "      <td>189900</td>\n",
              "    </tr>\n",
              "    <tr>\n",
              "      <th>831</th>\n",
              "      <td>60</td>\n",
              "      <td>79.00000</td>\n",
              "      <td>11646</td>\n",
              "      <td>6</td>\n",
              "      <td>5</td>\n",
              "      <td>2005</td>\n",
              "      <td>2006</td>\n",
              "      <td>0.0</td>\n",
              "      <td>0.0</td>\n",
              "      <td>0.0</td>\n",
              "      <td>704.0</td>\n",
              "      <td>704.0</td>\n",
              "      <td>704</td>\n",
              "      <td>718</td>\n",
              "      <td>0</td>\n",
              "      <td>1422</td>\n",
              "      <td>0.0</td>\n",
              "      <td>0.0</td>\n",
              "      <td>2</td>\n",
              "      <td>1</td>\n",
              "      <td>3</td>\n",
              "      <td>1</td>\n",
              "      <td>7</td>\n",
              "      <td>1</td>\n",
              "      <td>2005.0</td>\n",
              "      <td>2.0</td>\n",
              "      <td>440.0</td>\n",
              "      <td>36</td>\n",
              "      <td>28</td>\n",
              "      <td>0</td>\n",
              "      <td>0</td>\n",
              "      <td>0</td>\n",
              "      <td>0</td>\n",
              "      <td>0</td>\n",
              "      <td>7</td>\n",
              "      <td>2009</td>\n",
              "      <td>0</td>\n",
              "      <td>0</td>\n",
              "      <td>0</td>\n",
              "      <td>0</td>\n",
              "      <td>...</td>\n",
              "      <td>0</td>\n",
              "      <td>1</td>\n",
              "      <td>0</td>\n",
              "      <td>0</td>\n",
              "      <td>0</td>\n",
              "      <td>0</td>\n",
              "      <td>1</td>\n",
              "      <td>0</td>\n",
              "      <td>0</td>\n",
              "      <td>1</td>\n",
              "      <td>0</td>\n",
              "      <td>0</td>\n",
              "      <td>0</td>\n",
              "      <td>0</td>\n",
              "      <td>0</td>\n",
              "      <td>0</td>\n",
              "      <td>0</td>\n",
              "      <td>0</td>\n",
              "      <td>0</td>\n",
              "      <td>0</td>\n",
              "      <td>0</td>\n",
              "      <td>0</td>\n",
              "      <td>0</td>\n",
              "      <td>0</td>\n",
              "      <td>0</td>\n",
              "      <td>0</td>\n",
              "      <td>0</td>\n",
              "      <td>0</td>\n",
              "      <td>0</td>\n",
              "      <td>0</td>\n",
              "      <td>0</td>\n",
              "      <td>0</td>\n",
              "      <td>1</td>\n",
              "      <td>0</td>\n",
              "      <td>0</td>\n",
              "      <td>0</td>\n",
              "      <td>0</td>\n",
              "      <td>1</td>\n",
              "      <td>0</td>\n",
              "      <td>173000</td>\n",
              "    </tr>\n",
              "  </tbody>\n",
              "</table>\n",
              "<p>5 rows × 305 columns</p>\n",
              "</div>"
            ],
            "text/plain": [
              "      MS SubClass  Lot Frontage  ...  Sale Condition_Partial  SalesPrice\n",
              "1212           80      85.00000  ...                       0      179900\n",
              "140            20      69.22459  ...                       0      136000\n",
              "2118           20     155.00000  ...                       0      279000\n",
              "4              60      74.00000  ...                       0      189900\n",
              "831            60      79.00000  ...                       0      173000\n",
              "\n",
              "[5 rows x 305 columns]"
            ]
          },
          "metadata": {
            "tags": []
          },
          "execution_count": 1
        }
      ]
    },
    {
      "cell_type": "markdown",
      "metadata": {
        "id": "vHC8A8Io8oQG",
        "colab_type": "text"
      },
      "source": [
        "# \"Garage Area\" and \"SalesPrice\" features are selected to analyze."
      ]
    },
    {
      "cell_type": "code",
      "metadata": {
        "id": "pq6dFg6thq97",
        "colab_type": "code",
        "outputId": "dfce298d-9459-4a6b-b3ab-8b5e9b1c50f3",
        "colab": {
          "base_uri": "https://localhost:8080/",
          "height": 204
        }
      },
      "source": [
        "new_df = df[['Garage Area','SalesPrice']]\n",
        "new_df.head()"
      ],
      "execution_count": 0,
      "outputs": [
        {
          "output_type": "execute_result",
          "data": {
            "text/html": [
              "<div>\n",
              "<style scoped>\n",
              "    .dataframe tbody tr th:only-of-type {\n",
              "        vertical-align: middle;\n",
              "    }\n",
              "\n",
              "    .dataframe tbody tr th {\n",
              "        vertical-align: top;\n",
              "    }\n",
              "\n",
              "    .dataframe thead th {\n",
              "        text-align: right;\n",
              "    }\n",
              "</style>\n",
              "<table border=\"1\" class=\"dataframe\">\n",
              "  <thead>\n",
              "    <tr style=\"text-align: right;\">\n",
              "      <th></th>\n",
              "      <th>Garage Area</th>\n",
              "      <th>SalesPrice</th>\n",
              "    </tr>\n",
              "  </thead>\n",
              "  <tbody>\n",
              "    <tr>\n",
              "      <th>0</th>\n",
              "      <td>528.0</td>\n",
              "      <td>215000</td>\n",
              "    </tr>\n",
              "    <tr>\n",
              "      <th>1</th>\n",
              "      <td>730.0</td>\n",
              "      <td>105000</td>\n",
              "    </tr>\n",
              "    <tr>\n",
              "      <th>2</th>\n",
              "      <td>312.0</td>\n",
              "      <td>172000</td>\n",
              "    </tr>\n",
              "    <tr>\n",
              "      <th>3</th>\n",
              "      <td>522.0</td>\n",
              "      <td>244000</td>\n",
              "    </tr>\n",
              "    <tr>\n",
              "      <th>4</th>\n",
              "      <td>482.0</td>\n",
              "      <td>189900</td>\n",
              "    </tr>\n",
              "  </tbody>\n",
              "</table>\n",
              "</div>"
            ],
            "text/plain": [
              "   Garage Area  SalesPrice\n",
              "0        528.0      215000\n",
              "1        730.0      105000\n",
              "2        312.0      172000\n",
              "3        522.0      244000\n",
              "4        482.0      189900"
            ]
          },
          "metadata": {
            "tags": []
          },
          "execution_count": 2
        }
      ]
    },
    {
      "cell_type": "markdown",
      "metadata": {
        "id": "TpEvfXkM9r_2",
        "colab_type": "text"
      },
      "source": [
        "## Convert the data into numpy arrays of two variables, X and y."
      ]
    },
    {
      "cell_type": "code",
      "metadata": {
        "id": "e9CMMob_hzLe",
        "colab_type": "code",
        "outputId": "788311f2-db35-4f6d-877f-47e1c364c017",
        "colab": {
          "base_uri": "https://localhost:8080/",
          "height": 51
        }
      },
      "source": [
        "X = np.array(new_df[['Garage Area']])\n",
        "y = np.array(new_df[['SalesPrice']])\n",
        "print(X.shape) # Vewing the shape of X\n",
        "print(y.shape) # Vewing the shape of y"
      ],
      "execution_count": 0,
      "outputs": [
        {
          "output_type": "stream",
          "text": [
            "(2930, 1)\n",
            "(2930, 1)\n"
          ],
          "name": "stdout"
        }
      ]
    },
    {
      "cell_type": "markdown",
      "metadata": {
        "id": "JjnOjQWL_HVv",
        "colab_type": "text"
      },
      "source": [
        "## Split train and test data with 0.2 ratio."
      ]
    },
    {
      "cell_type": "code",
      "metadata": {
        "id": "Qbhe6KTZaTqR",
        "colab_type": "code",
        "colab": {}
      },
      "source": [
        "from sklearn.model_selection import train_test_split\n",
        "X_train,X_test,y_train,y_test=train_test_split(X,y,test_size=0.2)\n"
      ],
      "execution_count": 0,
      "outputs": []
    },
    {
      "cell_type": "markdown",
      "metadata": {
        "id": "l2d820kV_zO7",
        "colab_type": "text"
      },
      "source": [
        "# Linear Regression\n",
        "Train a linear regression."
      ]
    },
    {
      "cell_type": "code",
      "metadata": {
        "id": "XRb1ZUTbaoy0",
        "colab_type": "code",
        "outputId": "ffe04604-4deb-4994-ac33-6212615a3f69",
        "colab": {
          "base_uri": "https://localhost:8080/",
          "height": 34
        }
      },
      "source": [
        "from sklearn import linear_model \n",
        "\n",
        "regressor = linear_model.LinearRegression()\n",
        "regressor.fit(X_train,y_train) \n"
      ],
      "execution_count": 0,
      "outputs": [
        {
          "output_type": "execute_result",
          "data": {
            "text/plain": [
              "LinearRegression(copy_X=True, fit_intercept=True, n_jobs=None, normalize=False)"
            ]
          },
          "metadata": {
            "tags": []
          },
          "execution_count": 5
        }
      ]
    },
    {
      "cell_type": "markdown",
      "metadata": {
        "id": "v670cHDcAGwn",
        "colab_type": "text"
      },
      "source": [
        "## Calculate train and test R2."
      ]
    },
    {
      "cell_type": "code",
      "metadata": {
        "id": "YzG3jkxgaxL0",
        "colab_type": "code",
        "outputId": "9efece75-bdff-4e82-d2bc-6da0697607e6",
        "colab": {
          "base_uri": "https://localhost:8080/",
          "height": 51
        }
      },
      "source": [
        "from sklearn.metrics import r2_score\n",
        "\n",
        "y_pred1 = regressor.predict(X_train)\n",
        "print(\"Train:\", r2_score(y_train,y_pred1))\n",
        "\n",
        "y_pred2= regressor.predict(X_test)\n",
        "print(\"Test:\", r2_score(y_test,y_pred2))"
      ],
      "execution_count": 0,
      "outputs": [
        {
          "output_type": "stream",
          "text": [
            "Train: 0.41662810031808206\n",
            "Test: 0.3870941766375502\n"
          ],
          "name": "stdout"
        }
      ]
    },
    {
      "cell_type": "markdown",
      "metadata": {
        "id": "CuKDdtxSvH86",
        "colab_type": "text"
      },
      "source": [
        "## Print the bias and the slope."
      ]
    },
    {
      "cell_type": "code",
      "metadata": {
        "id": "Rqr6u4clvN7I",
        "colab_type": "code",
        "outputId": "93076333-cafd-450e-d28a-9a50fcddd2f8",
        "colab": {
          "base_uri": "https://localhost:8080/",
          "height": 51
        }
      },
      "source": [
        "print('Regressor coeffient or slope:',regressor.coef_[0][0])\n",
        "print('Interception point with axis:',regressor.intercept_[0])"
      ],
      "execution_count": 0,
      "outputs": [
        {
          "output_type": "stream",
          "text": [
            "Regressor coeffient or slope: 239.27861052211557\n",
            "Interception point with axis: 67676.77511042563\n"
          ],
          "name": "stdout"
        }
      ]
    },
    {
      "cell_type": "markdown",
      "metadata": {
        "id": "cWtykiPdCXyY",
        "colab_type": "text"
      },
      "source": [
        "## Plot the test set with scatter plot and add the linear regression model line.\n",
        "Remember linear regression recitation."
      ]
    },
    {
      "cell_type": "code",
      "metadata": {
        "id": "1I_pXHajCtbA",
        "colab_type": "code",
        "outputId": "5b38ee85-666b-405e-975d-f1aec97a91e8",
        "colab": {
          "base_uri": "https://localhost:8080/",
          "height": 295
        }
      },
      "source": [
        "# Plot a graph with X_test vs y_test\n",
        "plt.scatter(X_test,y_test,color=\"blue\")\n",
        "# Regressior line showing\n",
        "\n",
        "plt.plot(X_train,y_pred1,color=\"red\",linewidth=3)\n",
        "plt.title('Regression(Test Set)')\n",
        "plt.xlabel('Garage Area')\n",
        "plt.ylabel('Sales Price')\n",
        "plt.show()"
      ],
      "execution_count": 0,
      "outputs": [
        {
          "output_type": "display_data",
          "data": {
            "image/png": "[encoded data removed]",
            "text/plain": [
              "<Figure size 432x288 with 1 Axes>"
            ]
          },
          "metadata": {
            "tags": [],
            "needs_background": "light"
          }
        }
      ]
    },
    {
      "cell_type": "markdown",
      "metadata": {
        "id": "8I4MO2KALY7t",
        "colab_type": "text"
      },
      "source": [
        "# Multiple Linear Regression\n",
        "Select all features."
      ]
    },
    {
      "cell_type": "code",
      "metadata": {
        "id": "t05kOqWgM2jZ",
        "colab_type": "code",
        "outputId": "26538ef2-539c-4d64-d6bc-0a3717c334a7",
        "colab": {
          "base_uri": "https://localhost:8080/",
          "height": 51
        }
      },
      "source": [
        "df_all = df.drop('SalesPrice',1)\n",
        "\n",
        "\n",
        "X = df_all\n",
        "y = df['SalesPrice']\n",
        "print(X.shape) # Vewing the shape of X\n",
        "print(y.shape) # Vewing the shape of y"
      ],
      "execution_count": 0,
      "outputs": [
        {
          "output_type": "stream",
          "text": [
            "(2930, 304)\n",
            "(2930,)\n"
          ],
          "name": "stdout"
        }
      ]
    },
    {
      "cell_type": "markdown",
      "metadata": {
        "id": "NOfkzavRNr_p",
        "colab_type": "text"
      },
      "source": [
        "## Rescale the input features. Use MinMaxScaler."
      ]
    },
    {
      "cell_type": "code",
      "metadata": {
        "id": "CgerTDdWN3ZV",
        "colab_type": "code",
        "outputId": "ae1a3700-0a96-485c-c066-d358949d233d",
        "colab": {
          "base_uri": "https://localhost:8080/",
          "height": 136
        }
      },
      "source": [
        "from sklearn.preprocessing import MinMaxScaler\n",
        "scaler = MinMaxScaler()\n",
        "X=(scaler.fit_transform(X))\n",
        "print(X)\n"
      ],
      "execution_count": 0,
      "outputs": [
        {
          "output_type": "stream",
          "text": [
            "[[0.         0.4109589  0.14241978 ... 0.         1.         0.        ]\n",
            " [0.         0.20205479 0.04824604 ... 0.         1.         0.        ]\n",
            " [0.         0.20547945 0.06060904 ... 0.         1.         0.        ]\n",
            " ...\n",
            " [0.38235294 0.14041096 0.04272593 ... 0.         1.         0.        ]\n",
            " [0.         0.19178082 0.0407114  ... 0.         1.         0.        ]\n",
            " [0.23529412 0.18150685 0.03892122 ... 0.         1.         0.        ]]\n"
          ],
          "name": "stdout"
        }
      ]
    },
    {
      "cell_type": "markdown",
      "metadata": {
        "id": "LPWhiLEQOJXV",
        "colab_type": "text"
      },
      "source": [
        "## Train test split."
      ]
    },
    {
      "cell_type": "code",
      "metadata": {
        "id": "hWHQsWD-OR0X",
        "colab_type": "code",
        "colab": {}
      },
      "source": [
        "X_train,X_test,y_train,y_test=train_test_split(X,y,test_size=0.2)"
      ],
      "execution_count": 0,
      "outputs": []
    },
    {
      "cell_type": "markdown",
      "metadata": {
        "id": "ta9ugqFEO-3h",
        "colab_type": "text"
      },
      "source": [
        "## Fit regression model."
      ]
    },
    {
      "cell_type": "code",
      "metadata": {
        "id": "tE3FFQAJOz45",
        "colab_type": "code",
        "outputId": "6fcf8ac0-b954-4b09-b753-326c71f484fa",
        "colab": {
          "base_uri": "https://localhost:8080/",
          "height": 34
        }
      },
      "source": [
        "regressor = linear_model.LinearRegression()\n",
        "regressor.fit(X_train,y_train)"
      ],
      "execution_count": 0,
      "outputs": [
        {
          "output_type": "execute_result",
          "data": {
            "text/plain": [
              "LinearRegression(copy_X=True, fit_intercept=True, n_jobs=None, normalize=False)"
            ]
          },
          "metadata": {
            "tags": []
          },
          "execution_count": 23
        }
      ]
    },
    {
      "cell_type": "markdown",
      "metadata": {
        "id": "ai5eB9elPNOY",
        "colab_type": "text"
      },
      "source": [
        "## Calculate train and test R2."
      ]
    },
    {
      "cell_type": "code",
      "metadata": {
        "id": "pbJWBEnRPOg_",
        "colab_type": "code",
        "outputId": "8f19b20d-aab6-4ff7-e712-0e0a40706125",
        "colab": {
          "base_uri": "https://localhost:8080/",
          "height": 51
        }
      },
      "source": [
        "y_pred1 = regressor.predict(X_train)\n",
        "print(\"Train:\", r2_score(y_train,y_pred1))\n",
        "\n",
        "y_pred2= regressor.predict(X_test)\n",
        "print(\"Test:\", r2_score(y_test,y_pred2))"
      ],
      "execution_count": 0,
      "outputs": [
        {
          "output_type": "stream",
          "text": [
            "Train: 0.9421612915913581\n",
            "Test: -4.54480060897034e+17\n"
          ],
          "name": "stdout"
        }
      ]
    },
    {
      "cell_type": "markdown",
      "metadata": {
        "id": "iZTYM-76v__6",
        "colab_type": "text"
      },
      "source": [
        "## Print the regression coefficients."
      ]
    },
    {
      "cell_type": "code",
      "metadata": {
        "id": "tw10OFDUwDtY",
        "colab_type": "code",
        "outputId": "f2dff630-54cd-4940-ff60-1a92a9df4cd1",
        "colab": {
          "base_uri": "https://localhost:8080/",
          "height": 1000
        }
      },
      "source": [
        "print('Regressor coeffients for multiple linear regression:',regressor.coef_)"
      ],
      "execution_count": 0,
      "outputs": [
        {
          "output_type": "stream",
          "text": [
            "Regressor coeffients for multiple linear regression: [-7.93797761e+03  2.19039619e+04  1.82843630e+05  6.36421656e+04\n",
            "  4.60641221e+04  4.88109571e+04  4.06403642e+03  4.57031897e+04\n",
            " -2.96988182e+15 -8.02983639e+14 -1.22920693e+15  3.21509177e+15\n",
            "  1.10124049e+16  4.77643693e+15  2.46107937e+15 -1.22776403e+16\n",
            "  4.52401930e+03 -1.99391896e+03  8.42754045e+03  2.56258023e+03\n",
            " -3.84376119e+04 -3.81583895e+04  1.29436147e+04  2.26909193e+04\n",
            "  1.35260816e+04  2.19765129e+04  1.72647263e+04  1.10207895e+04\n",
            "  2.48196465e+03  1.32984220e+04  2.86429061e+03  2.24390424e+04\n",
            " -3.42219489e+05  3.77749609e+03 -2.89125000e+03 -2.89800000e+03\n",
            "  7.01648059e+15  7.01648059e+15  7.01648059e+15  7.01648059e+15\n",
            "  7.01648059e+15  7.01648059e+15  7.01648059e+15 -1.81029565e+14\n",
            " -1.81029565e+14  2.40025000e+03 -1.59900000e+03  1.22559154e+15\n",
            "  1.22559154e+15  1.22559154e+15  1.22559154e+15 -5.36266304e+15\n",
            " -5.36266304e+15 -5.36266304e+15 -5.36266304e+15  8.62984434e+14\n",
            "  1.60245820e+15  8.62984434e+14 -2.69048850e+15 -2.69048850e+15\n",
            " -2.69048850e+15 -2.69048850e+15 -2.69048850e+15 -5.17961694e+14\n",
            " -5.17961694e+14 -5.17961694e+14 -3.72132324e+15 -3.72132324e+15\n",
            " -3.72132324e+15 -3.72132324e+15 -3.72132324e+15 -3.72132324e+15\n",
            " -3.72132324e+15 -3.72132324e+15 -3.72132324e+15 -3.72132324e+15\n",
            " -3.72132324e+15 -3.72132324e+15 -3.72132324e+15 -3.72132324e+15\n",
            " -3.72132324e+15 -3.72132324e+15 -3.72132324e+15 -3.72132324e+15\n",
            " -3.72132324e+15 -3.72132324e+15 -3.72132324e+15 -3.72132324e+15\n",
            " -3.72132324e+15 -3.72132324e+15 -3.72132324e+15 -3.72132324e+15\n",
            " -3.72132324e+15 -3.72132324e+15  1.27286794e+15  1.27286794e+15\n",
            "  1.27286794e+15  1.27286794e+15  1.27286794e+15  1.27286794e+15\n",
            "  1.27286794e+15  1.27286794e+15  1.27286794e+15  4.03687039e+14\n",
            "  4.03687039e+14  4.03687039e+14  4.03687039e+14  4.03687039e+14\n",
            "  4.03687039e+14  4.03687039e+14  4.03687039e+14 -4.73607059e+15\n",
            " -4.73607059e+15 -4.73607059e+15 -4.73607059e+15 -4.73607059e+15\n",
            "  1.26230346e+16  1.26230346e+16  1.26230346e+16  1.26230346e+16\n",
            "  1.26230346e+16  1.26230346e+16  1.26230346e+16  1.26230346e+16\n",
            "  1.40171559e+16  1.40171559e+16  1.40171559e+16  1.40171559e+16\n",
            "  1.40171559e+16  1.40171559e+16  8.75613878e+14  8.75613879e+14\n",
            "  8.75613879e+14 -2.22444140e+14  8.75613879e+14  8.75613879e+14\n",
            "  8.75613879e+14  8.75613879e+14  1.79878091e+15  1.79878091e+15\n",
            "  1.79878091e+15  1.79878091e+15  1.79878091e+15  1.79878091e+15\n",
            "  1.79878091e+15  1.79878091e+15  1.79878091e+15  1.79878091e+15\n",
            " -9.17084431e+14  1.79878091e+15  1.79878091e+15  1.79878091e+15\n",
            "  1.79878091e+15  1.79878091e+15 -2.70043766e+15 -2.70043766e+15\n",
            " -2.70043766e+15 -2.70043766e+15 -2.70043766e+15 -2.70043766e+15\n",
            " -2.70043766e+15 -2.70043766e+15 -2.70043766e+15 -2.70043766e+15\n",
            " -2.70043766e+15  1.54276760e+13 -2.70043766e+15 -2.70043766e+15\n",
            " -2.70043766e+15 -2.70043766e+15 -2.70043766e+15 -7.80675000e+03\n",
            " -3.77150000e+03 -9.92311953e+04  2.80500000e+03  3.08975000e+03\n",
            " -5.90889424e+15 -5.90889424e+15 -5.90889424e+15 -5.90889424e+15\n",
            "  4.92882798e+15  4.92882798e+15  4.92882798e+15  4.92882798e+15\n",
            "  4.92882798e+15 -7.62816261e+15 -7.62816261e+15 -7.62816261e+15\n",
            " -7.62816261e+15 -7.62816261e+15 -7.62816261e+15 -1.02734150e+16\n",
            " -1.02734150e+16 -1.02734150e+16 -1.02734150e+16 -1.02734150e+16\n",
            "  7.18337894e+15  7.18337894e+15  7.18337894e+15  7.18337894e+15\n",
            "  7.18337894e+15  7.37850000e+03  1.81975000e+04  8.74750000e+02\n",
            "  2.84225000e+03  3.09003601e+15  3.09003601e+15  3.09003601e+15\n",
            "  3.09003601e+15  3.09003601e+15  3.09003601e+15  2.80943750e+04\n",
            "  1.95065625e+04  3.78317031e+04  2.08102500e+04  2.11080000e+04\n",
            "  2.65485000e+04  8.40987407e+14  8.40987407e+14  8.40987407e+14\n",
            "  8.40987407e+14  8.40987407e+14  8.40987407e+14  4.09521241e+15\n",
            "  4.09521241e+15  4.09521241e+15  4.09521241e+15  4.09521241e+15\n",
            " -2.45888416e+15 -2.45888416e+15 -1.25170938e+04 -1.25695469e+04\n",
            " -1.87306875e+04 -1.47828983e+13 -1.20675938e+04  2.69769696e+15\n",
            "  2.69769696e+15  2.69769696e+15  2.69769696e+15  2.69769696e+15\n",
            "  2.09276450e+15  2.09276450e+15  2.09276450e+15  2.09276450e+15\n",
            "  2.09276450e+15  2.09276450e+15  2.09276450e+15  2.09276450e+15\n",
            "  4.23300000e+03 -7.83400000e+03 -5.21287500e+03 -2.46075000e+03\n",
            " -5.68125000e+03 -2.69308750e+04 -1.69075000e+04 -1.27226875e+04\n",
            " -1.41388750e+04 -2.31654062e+04 -1.52580000e+04 -9.56031006e+15\n",
            " -9.56031006e+15 -9.56031006e+15  7.48506128e+14  7.48506128e+14\n",
            "  7.48506128e+14  7.48506128e+14  7.48506128e+14  8.81180393e+15\n",
            "  8.81180393e+15  8.81180393e+15  8.81180393e+15  8.81180393e+15\n",
            " -1.00475545e+15 -1.00475545e+15 -1.00475545e+15  1.57923938e+05\n",
            "  3.02926578e+05  3.58843828e+05  1.96188250e+05 -1.15825000e+03\n",
            "  2.49300000e+03  2.03400000e+03 -5.06081250e+03  0.00000000e+00\n",
            "  2.65023047e+03  1.26780391e+04  2.58875000e+03 -1.12689922e+05\n",
            "  3.41487030e+15  3.41487030e+15  3.41487030e+15  3.41487030e+15\n",
            "  3.41487030e+15  3.41487030e+15  3.41487030e+15  3.41487030e+15\n",
            "  3.41487030e+15  3.41487030e+15  2.84877906e+15  2.84877906e+15\n",
            "  2.84877906e+15  2.84877906e+15  2.84877906e+15  2.84877906e+15]\n"
          ],
          "name": "stdout"
        }
      ]
    },
    {
      "cell_type": "markdown",
      "metadata": {
        "id": "PtwgWJvwQfo-",
        "colab_type": "text"
      },
      "source": [
        "# Ridge Regression\n",
        "https://scikit-learn.org/stable/modules/generated/sklearn.model_selection.KFold.html\n",
        "\n",
        "https://scikit-learn.org/stable/modules/generated/sklearn.linear_model.RidgeCV.html\n",
        "\n",
        "## Use cross-validation to estimate alpha. Set the fold size to 5."
      ]
    },
    {
      "cell_type": "code",
      "metadata": {
        "id": "niasM1bHSO0r",
        "colab_type": "code",
        "outputId": "3bed486a-cdcd-424d-be65-30ae9f808edf",
        "colab": {
          "base_uri": "https://localhost:8080/",
          "height": 85
        }
      },
      "source": [
        "from sklearn.model_selection import KFold\n",
        "from sklearn.linear_model import RidgeCV\n",
        "kfold = KFold(n_splits=5)\n",
        "\n",
        "alphas=[1e-3, 1e-2, 1e-1, 1, 2, 5, 8, 10]\n",
        "# Create and fit model\n",
        "model_rcv = RidgeCV(alphas,cv=kfold,normalize =True)\n",
        "# code comes here\n",
        "model_rcv.fit(X_train, y_train)"
      ],
      "execution_count": 0,
      "outputs": [
        {
          "output_type": "execute_result",
          "data": {
            "text/plain": [
              "RidgeCV(alphas=array([1.e-03, 1.e-02, 1.e-01, 1.e+00, 2.e+00, 5.e+00, 8.e+00, 1.e+01]),\n",
              "        cv=KFold(n_splits=5, random_state=None, shuffle=False),\n",
              "        fit_intercept=True, gcv_mode=None, normalize=True, scoring=None,\n",
              "        store_cv_values=False)"
            ]
          },
          "metadata": {
            "tags": []
          },
          "execution_count": 26
        }
      ]
    },
    {
      "cell_type": "markdown",
      "metadata": {
        "id": "WuXiTAzbTw-E",
        "colab_type": "text"
      },
      "source": [
        "## Calculate the train and test R2."
      ]
    },
    {
      "cell_type": "code",
      "metadata": {
        "id": "uljtYcwlUasT",
        "colab_type": "code",
        "outputId": "05ff1fe7-b8ee-4ed7-8b08-f9a7512858a4",
        "colab": {
          "base_uri": "https://localhost:8080/",
          "height": 51
        }
      },
      "source": [
        "y_pred3 = model_rcv.predict(X_train)\n",
        "print(\"Train:\", r2_score(y_train,y_pred3))\n",
        "\n",
        "y_pred4= model_rcv.predict(X_test)\n",
        "print(\"Test:\", r2_score(y_test,y_pred4))"
      ],
      "execution_count": 0,
      "outputs": [
        {
          "output_type": "stream",
          "text": [
            "Train: 0.9371960844021472\n",
            "Test: 0.82085128425282\n"
          ],
          "name": "stdout"
        }
      ]
    },
    {
      "cell_type": "markdown",
      "metadata": {
        "id": "h8tDKPJHUkuG",
        "colab_type": "text"
      },
      "source": [
        "## Print the best alpha."
      ]
    },
    {
      "cell_type": "code",
      "metadata": {
        "id": "1EUQMEgnUr0k",
        "colab_type": "code",
        "outputId": "115b286f-8d74-4e6f-f4a0-f90811fd3381",
        "colab": {
          "base_uri": "https://localhost:8080/",
          "height": 34
        }
      },
      "source": [
        "print(\"Alpha:\", model_rcv.alpha_)"
      ],
      "execution_count": 0,
      "outputs": [
        {
          "output_type": "stream",
          "text": [
            "Alpha: 0.1\n"
          ],
          "name": "stdout"
        }
      ]
    },
    {
      "cell_type": "markdown",
      "metadata": {
        "id": "hK4tYYscvyJG",
        "colab_type": "text"
      },
      "source": [
        "## Print the regression coefficients."
      ]
    },
    {
      "cell_type": "code",
      "metadata": {
        "id": "KBcaia_5v5fF",
        "colab_type": "code",
        "outputId": "bba736a8-d617-4015-9762-021c29d4f50c",
        "colab": {
          "base_uri": "https://localhost:8080/",
          "height": 1000
        }
      },
      "source": [
        "print('Regressor coeffients for ridge regression:',model_rcv.coef_)"
      ],
      "execution_count": 0,
      "outputs": [
        {
          "output_type": "stream",
          "text": [
            "Regressor coeffients for ridge regression: [-8.06367052e+03  1.54708368e+04  1.39996036e+05  5.63196263e+04\n",
            "  3.49897248e+04  2.11241640e+04  5.23583895e+03  4.67141609e+04\n",
            "  8.08075245e+04  1.48537915e+04  5.52374671e+02  1.04283527e+05\n",
            "  9.61515316e+04  3.38839723e+04 -1.13049796e+04  1.28770356e+05\n",
            "  8.38700173e+03 -3.77295907e+03  1.89283299e+04  7.56899080e+03\n",
            " -1.98540252e+04 -3.17876968e+04  2.58405855e+04  1.87821101e+04\n",
            "  1.66531862e+04  2.18153812e+04  2.13154902e+04  1.71283792e+04\n",
            "  7.37052601e+03  6.01436240e+03  5.69548982e+03  2.40614384e+04\n",
            " -1.28280988e+04  5.50049966e+03 -3.12957408e+03 -2.47105450e+03\n",
            " -3.24359661e+03 -8.29825445e+03  3.59083253e+03  7.92463357e+03\n",
            "  5.08366786e+03  2.30799566e+03 -4.00062742e+03 -7.40938795e+03\n",
            "  7.40938795e+03  1.80152415e+02  4.71773042e+02 -3.65417295e+02\n",
            "  4.43249449e+03 -7.84131959e+03  9.16958814e+01 -6.58373179e+02\n",
            "  3.00631962e+03 -8.19302767e+03  7.29623085e+02  1.02931154e+04\n",
            "  0.00000000e+00 -1.02931154e+04 -1.05226046e+03  5.30917300e+03\n",
            " -6.18766454e+03 -6.17643276e+02  1.30127817e+02  1.96537219e+01\n",
            "  3.04768922e+03 -3.03526791e+04  2.82463944e+03  1.12111745e+04\n",
            "  7.88992037e+03  3.60680356e+03 -6.09597158e+02 -3.29809410e+03\n",
            "  1.18760645e+04 -8.48945969e+03 -6.72985299e+03  1.13259791e+04\n",
            "  7.96083004e+04 -3.79651696e+02 -5.08299699e+03  2.31638480e+03\n",
            " -6.79954408e+03 -6.67031774e+03  1.15793410e+04 -8.32296548e+03\n",
            "  2.91869517e+04  1.75327259e+04 -5.69432460e+03 -5.09988481e+03\n",
            " -2.20833883e+03 -4.44682231e+03  8.82115281e+03  3.11511442e+04\n",
            " -4.86683845e+03  4.32098485e+02 -8.32289675e+03 -3.94989040e+03\n",
            "  3.64795376e+03  4.46911686e+03  7.73218883e+03 -9.08837045e+03\n",
            "  7.01763745e+01 -6.47904135e+03 -5.99665266e+03 -1.91211217e+02\n",
            " -8.83032398e+03 -1.77628215e+03  5.05624028e+04 -1.05307487e+04\n",
            " -3.39786053e+04 -8.00899568e+02  9.00975587e+03  6.74753840e+03\n",
            " -3.35960835e+02 -6.25765878e+03 -1.02755644e+04 -5.41137052e+03\n",
            "  3.24200370e+01  2.25120353e+03 -3.96584895e+02 -1.62184336e+04\n",
            "  1.82676984e+03  8.18711619e+02 -6.17636731e+02 -1.20693923e+03\n",
            " -1.08039329e+04 -4.76117313e+02 -2.67289556e+03  1.27402746e+03\n",
            " -1.17092253e+04  1.32205372e+04 -5.34075434e+05  7.75942351e+02\n",
            "  5.91304883e+04  0.00000000e+00 -4.12284292e+03  4.56163341e+03\n",
            "  4.89799886e+03  5.54054589e+04  1.75000503e+03 -7.74906226e+03\n",
            "  7.21592214e+03  1.79378090e+04  3.61674200e+02  9.97246348e+02\n",
            " -1.86879156e+03 -2.87752671e+03  1.80445325e+03  9.93894279e+01\n",
            "  3.00880338e+04 -8.95903921e+02  5.05454140e+03 -1.22571368e+03\n",
            " -3.08551247e+03 -1.18012001e+03 -1.32861750e+03  1.03247404e+04\n",
            " -8.05034822e+02 -5.30362448e+03 -5.82858200e+03  7.15266597e+02\n",
            " -2.87121287e+02 -5.33259527e+03 -3.14672478e+02 -7.75390373e+03\n",
            " -3.67083980e+03  3.00880338e+04 -1.25861046e+04 -4.76020848e+03\n",
            "  2.15749531e+03  9.89686026e+02 -7.33414251e+02 -7.94159633e+03\n",
            " -3.09615887e+03 -7.24763321e+04  2.12427149e+03  2.76432392e+03\n",
            "  2.51662997e+04  3.80812111e+03  1.40376048e+02 -3.78579389e+03\n",
            " -3.77794938e+03 -4.11778139e+03  1.84999226e+02 -4.39211622e+03\n",
            "  8.75714174e+02 -3.27582711e+03 -7.97431911e+02  1.95317535e+03\n",
            "  4.58343120e+02  1.17699491e+04 -8.82101857e+03  1.70093223e+04\n",
            " -7.38045111e+02 -2.98229650e+03  4.02056237e+03 -2.74990215e+03\n",
            " -3.33747908e+03 -1.65100782e+03  7.89577395e+02 -3.02662353e+03\n",
            " -8.85067122e+02  9.19341256e+02  1.22998340e+04 -4.44609446e+03\n",
            " -4.24448110e+03  1.78238378e+02 -4.80277511e+02  2.89576803e+03\n",
            " -3.77847806e+03 -2.80313937e+03 -1.23035985e+03  3.00252383e+03\n",
            " -4.64706161e+03  1.10139742e+04 -3.91521063e+03 -3.92747577e+03\n",
            "  6.68806071e+02 -5.56598694e+02 -4.87569255e+01 -8.48312754e+02\n",
            "  1.59209657e+03 -2.26172891e+04  9.14452738e+03  1.36252840e+03\n",
            " -2.45768062e+03  1.57850829e+02 -1.08029878e+04 -1.35266051e+03\n",
            "  3.25303302e+02 -3.25303302e+02 -4.99220588e+02  9.20731716e+01\n",
            "  1.90176987e+03  0.00000000e+00 -3.84517852e+02  1.75690311e+04\n",
            " -2.86599376e+03 -1.02907324e+03  2.24403075e+04 -3.13875948e+03\n",
            " -1.50855491e+04 -1.35503955e+04 -6.01330035e+03 -1.59064604e+03\n",
            " -7.12917968e+03 -3.84506125e+04 -2.78061004e+04  6.71125934e+03\n",
            "  9.46120158e+03 -4.96023606e+03 -8.96643587e+02 -1.90778317e+03\n",
            " -1.48059401e+03 -1.37536366e+04 -7.20888999e+02 -1.87092005e+03\n",
            "  4.73191853e+03 -8.41449767e+03 -1.11043403e+03  6.86918537e+02\n",
            " -2.79566508e+03  1.00042105e+03  7.44411290e+04 -2.16871936e+03\n",
            "  1.43756562e+04 -1.16097370e+04 -2.96238857e+03 -6.43392034e+04\n",
            " -3.33801999e+03  2.56911623e+03 -4.02431965e+03 -5.73764220e+02\n",
            "  8.97993400e+01 -3.29754326e+03  7.15385346e+02  4.87581982e+04\n",
            "  2.40201157e+04  6.96131735e+03  1.74714479e+04 -8.67520705e+02\n",
            "  2.49336430e+03  7.89549230e+02 -3.78466313e+03  0.00000000e+00\n",
            "  1.55036606e+03  4.67213855e+03  1.43197346e+03 -3.50392044e+04\n",
            " -3.96604458e+03  7.13906424e+03  2.55795802e+04  1.32965440e+03\n",
            " -1.27599435e+03  5.71794571e+03  3.88084066e+03  1.53821675e+04\n",
            " -5.85393035e+03 -2.50329561e+03 -6.83948361e+03  8.46261343e+03\n",
            "  5.93149479e+03 -9.41861847e+03  1.09372608e+03  4.09989239e+03]\n"
          ],
          "name": "stdout"
        }
      ]
    },
    {
      "cell_type": "markdown",
      "metadata": {
        "id": "1x2COfv8FQ-F",
        "colab_type": "text"
      },
      "source": [
        "Alper Bingol / 23661\n"
      ]
    }
  ]
}
